{
 "cells": [
  {
   "cell_type": "markdown",
   "metadata": {},
   "source": [
    "<h1>Project Description</h1><br>\n",
    "The following project into one of the application of python -- Edge Detection. Refer to the following \n",
    "<a href = 'https://www.projectrhea.org/rhea/index.php/An_Implementation_of_Sobel_Edge_Detection'>link</a> for the theory behind sobel edge detection. Sobel edge detection is one of many edge detection technique in computer vision. For a comprehensive study on different edge detection technique, refer to the following <a href = 'http://aircconline.com/sipij/V4N3/4313sipij06.pdf'>article</a>. "
   ]
  },
  {
   "cell_type": "markdown",
   "metadata": {},
   "source": [
    "<h1>Import Necessary Libraries</h1>"
   ]
  },
  {
   "cell_type": "code",
   "execution_count": 1,
   "metadata": {},
   "outputs": [],
   "source": [
    "import numpy as np\n",
    "%matplotlib inline\n",
    "import matplotlib.pyplot as plt\n",
    "from PIL import Image "
   ]
  },
  {
   "cell_type": "markdown",
   "metadata": {},
   "source": [
    "<h1>Helper Function</h1><br>\n",
    "<h2>plot_image()</h2><br>\n",
    "The following function plots an image for visualization purpose. As parameter, it takes in the image to be visualized, the color map being used for the image (greyscale vs color), and the title for the image that should be displayed. For a list of possible colormap, refer to the following <a href = 'https://matplotlib.org/tutorials/colors/colormaps.html'>link</a>."
   ]
  },
  {
   "cell_type": "code",
   "execution_count": 2,
   "metadata": {},
   "outputs": [],
   "source": [
    "def plot_image(image, color_map = None, title = None):\n",
    "#     raise NotImplementedError    # delete this line to write the function\n",
    "    plt.imshow(image, cmap = color_map)\n",
    "    plt.title(title)\n",
    "    plt.axis('off')\n",
    "    plt.show()\n"
   ]
  },
  {
   "cell_type": "markdown",
   "metadata": {},
   "source": [
    "<h2>to_grayscale()</h2><br>\n",
    "The following function converts an RGB image to Grayscale image. As parameter, it takes in the image that needs to be converted to grayscale and returns the grayscale image as output. The idea behing grayscale is to set the Red, Green, and Blue component of a corresponding pixel equal the average of the component. For example, suppose for a given pixel, $Red = 50$, $Green = 100$, and $Blue = 150$ for the RGB image. This makes the average pixel value to be $\\frac{50 + 100 + 150}{3} = 100$. This means, the pixel value for the corresponding grayscale image is: $Red = 100$, $Green = 100$, and $Blue = 100$."
   ]
  },
  {
   "cell_type": "code",
   "execution_count": 3,
   "metadata": {},
   "outputs": [],
   "source": [
    "def to_grayscale(image):\n",
    "#     raise NotImplementedError    # delete this line to write the function\n",
    "\n",
    "    height, width, _ = image.shape\n",
    "    gray_image = np.zeros([height, width], dtype=np.uint8)\n",
    "#     weights = [0.2989, 0.5870, 0.1140]\n",
    "    for h in range(height):\n",
    "        for w in range(width):\n",
    "            r, g, b = image[h, w, :]\n",
    "            avg = np.uint8((int(r) + int(g) + int(b)) / 3)\n",
    "            gray_image[h, w] = avg\n",
    "    return gray_image"
   ]
  },
  {
   "cell_type": "markdown",
   "metadata": {},
   "source": [
    "<h2>convolution2d()</h2><br>\n",
    "The following function perform the 2D convolution with the image and the kernel. As parameter, it takes the image and the kernel as the parameter and retuns the result of the 2D convolution as output. Refer to the animation below for demonstration of how 2D convolution works.\n",
    "<img src = './media/convolution_gif2.gif' style=\"height:300px;\">"
   ]
  },
  {
   "cell_type": "code",
   "execution_count": 4,
   "metadata": {},
   "outputs": [],
   "source": [
    "def convolution2d(image, kernel):\n",
    "#     raise NotImplementedError    # delete this line to write the function\n",
    "\n",
    "    m, n = kernel.shape\n",
    "    if (m == n):\n",
    "        y, x = image.shape\n",
    "        y = y - m + 1\n",
    "        x = x - m + 1\n",
    "        new_image = np.zeros((y,x))\n",
    "        for i in range(y):\n",
    "            for j in range(x):\n",
    "                val = np.abs(np.sum(image[i:i+m, j:j+m]*kernel))\n",
    "                new_image[i][j] = val\n",
    "    return new_image"
   ]
  },
  {
   "cell_type": "code",
   "execution_count": 5,
   "metadata": {},
   "outputs": [
    {
     "ename": "FileNotFoundError",
     "evalue": "[Errno 2] No such file or directory: './media/image1.jpg'",
     "output_type": "error",
     "traceback": [
      "\u001b[0;31m---------------------------------------------------------------------------\u001b[0m",
      "\u001b[0;31mFileNotFoundError\u001b[0m                         Traceback (most recent call last)",
      "\u001b[0;32m<ipython-input-5-1fa8c6b27927>\u001b[0m in \u001b[0;36m<module>\u001b[0;34m\u001b[0m\n\u001b[1;32m      1\u001b[0m \u001b[0mIMAGE_PATH\u001b[0m \u001b[0;34m=\u001b[0m \u001b[0;34m\"./media/image1.jpg\"\u001b[0m\u001b[0;34m\u001b[0m\u001b[0;34m\u001b[0m\u001b[0m\n\u001b[0;32m----> 2\u001b[0;31m \u001b[0mim\u001b[0m \u001b[0;34m=\u001b[0m \u001b[0mImage\u001b[0m\u001b[0;34m.\u001b[0m\u001b[0mopen\u001b[0m\u001b[0;34m(\u001b[0m\u001b[0mIMAGE_PATH\u001b[0m\u001b[0;34m)\u001b[0m\u001b[0;34m\u001b[0m\u001b[0;34m\u001b[0m\u001b[0m\n\u001b[0m\u001b[1;32m      3\u001b[0m \u001b[0mim\u001b[0m \u001b[0;34m=\u001b[0m \u001b[0mnp\u001b[0m\u001b[0;34m.\u001b[0m\u001b[0masarray\u001b[0m\u001b[0;34m(\u001b[0m\u001b[0mim\u001b[0m\u001b[0;34m)\u001b[0m\u001b[0;34m\u001b[0m\u001b[0;34m\u001b[0m\u001b[0m\n\u001b[1;32m      4\u001b[0m \u001b[0mplot_image\u001b[0m\u001b[0;34m(\u001b[0m\u001b[0mim\u001b[0m\u001b[0;34m,\u001b[0m \u001b[0mtitle\u001b[0m \u001b[0;34m=\u001b[0m \u001b[0;34m\"Original Image\"\u001b[0m\u001b[0;34m)\u001b[0m\u001b[0;34m\u001b[0m\u001b[0;34m\u001b[0m\u001b[0m\n\u001b[1;32m      5\u001b[0m \u001b[0mprint\u001b[0m\u001b[0;34m(\u001b[0m\u001b[0mtype\u001b[0m\u001b[0;34m(\u001b[0m\u001b[0mim\u001b[0m\u001b[0;34m)\u001b[0m\u001b[0;34m)\u001b[0m\u001b[0;34m\u001b[0m\u001b[0;34m\u001b[0m\u001b[0m\n",
      "\u001b[0;32m~/Documents/anaconda3/lib/python3.7/site-packages/PIL/Image.py\u001b[0m in \u001b[0;36mopen\u001b[0;34m(fp, mode)\u001b[0m\n\u001b[1;32m   2764\u001b[0m \u001b[0;34m\u001b[0m\u001b[0m\n\u001b[1;32m   2765\u001b[0m     \u001b[0;32mif\u001b[0m \u001b[0mfilename\u001b[0m\u001b[0;34m:\u001b[0m\u001b[0;34m\u001b[0m\u001b[0;34m\u001b[0m\u001b[0m\n\u001b[0;32m-> 2766\u001b[0;31m         \u001b[0mfp\u001b[0m \u001b[0;34m=\u001b[0m \u001b[0mbuiltins\u001b[0m\u001b[0;34m.\u001b[0m\u001b[0mopen\u001b[0m\u001b[0;34m(\u001b[0m\u001b[0mfilename\u001b[0m\u001b[0;34m,\u001b[0m \u001b[0;34m\"rb\"\u001b[0m\u001b[0;34m)\u001b[0m\u001b[0;34m\u001b[0m\u001b[0;34m\u001b[0m\u001b[0m\n\u001b[0m\u001b[1;32m   2767\u001b[0m         \u001b[0mexclusive_fp\u001b[0m \u001b[0;34m=\u001b[0m \u001b[0;32mTrue\u001b[0m\u001b[0;34m\u001b[0m\u001b[0;34m\u001b[0m\u001b[0m\n\u001b[1;32m   2768\u001b[0m \u001b[0;34m\u001b[0m\u001b[0m\n",
      "\u001b[0;31mFileNotFoundError\u001b[0m: [Errno 2] No such file or directory: './media/image1.jpg'"
     ]
    }
   ],
   "source": [
    "IMAGE_PATH = \"./media/image1.jpg\"\n",
    "im = Image.open(IMAGE_PATH)\n",
    "im = np.asarray(im)\n",
    "plot_image(im, title = \"Original Image\")\n",
    "print(type(im))\n",
    "print(im.shape)"
   ]
  },
  {
   "cell_type": "code",
   "execution_count": null,
   "metadata": {},
   "outputs": [],
   "source": [
    "im_gray = to_grayscale(im)\n",
    "plot_image(im_gray, color_map = 'gray', title = \"Grayscale Image\")\n",
    "print(type(im_gray))\n",
    "print(im_gray.shape)"
   ]
  },
  {
   "cell_type": "code",
   "execution_count": null,
   "metadata": {},
   "outputs": [],
   "source": [
    "vertical_kernel = np.asarray([[-1, 0, 1],[-2, 0, 2],[-1,0, 1]])\n",
    "print(\"Kernel = \\n\", vertical_kernel)\n",
    "vertical_edge = convolution2d(im_gray, vertical_kernel)\n",
    "plot_image(vertical_edge, color_map = 'gray', title = \"Vertical Edges\")\n",
    "print(\"max edge = \", np.max(vertical_edge))"
   ]
  },
  {
   "cell_type": "code",
   "execution_count": null,
   "metadata": {},
   "outputs": [],
   "source": [
    "horizontal_kernel = np.asarray([[-1, -2, -1],[0, 0, 0],[1, 2, 1]])\n",
    "print(\"Kernel = \\n\", horizontal_kernel)\n",
    "horizontal_edge = convolution2d(im_gray, horizontal_kernel)\n",
    "plot_image(horizontal_edge, color_map = 'gray', title = \"Horizontal Edges\")\n",
    "print(\"max edge = \", np.max(horizontal_edge))"
   ]
  },
  {
   "cell_type": "code",
   "execution_count": null,
   "metadata": {},
   "outputs": [],
   "source": [
    "combine_edge = horizontal_edge + vertical_edge\n",
    "plot_image(combine_edge, color_map = 'gray', title = \"Edge Detection\")"
   ]
  }
 ],
 "metadata": {
  "kernelspec": {
   "display_name": "Python 3",
   "language": "python",
   "name": "python3"
  },
  "language_info": {
   "codemirror_mode": {
    "name": "ipython",
    "version": 3
   },
   "file_extension": ".py",
   "mimetype": "text/x-python",
   "name": "python",
   "nbconvert_exporter": "python",
   "pygments_lexer": "ipython3",
   "version": "3.7.4"
  }
 },
 "nbformat": 4,
 "nbformat_minor": 4
}
