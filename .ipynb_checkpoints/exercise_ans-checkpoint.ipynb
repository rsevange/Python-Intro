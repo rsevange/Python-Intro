{
 "cells": [
  {
   "cell_type": "markdown",
   "metadata": {},
   "source": [
    "## Exercise 1"
   ]
  },
  {
   "cell_type": "markdown",
   "metadata": {},
   "source": [
    "1. Create a list called \"list_1\" containing the ints (integers) from 1 to 10."
   ]
  },
  {
   "cell_type": "code",
   "execution_count": 1,
   "metadata": {},
   "outputs": [
    {
     "name": "stdout",
     "output_type": "stream",
     "text": [
      "[1, 2, 3, 4, 5, 6, 7, 8, 9, 10]\n"
     ]
    }
   ],
   "source": [
    "list_1 = [i for i in range(1, 11)]\n",
    "print(list_1)"
   ]
  },
  {
   "cell_type": "markdown",
   "metadata": {},
   "source": [
    "2. Create a second list \"list_2\" containing 11-20, but create them **as floats** this time."
   ]
  },
  {
   "cell_type": "code",
   "execution_count": 2,
   "metadata": {},
   "outputs": [
    {
     "name": "stdout",
     "output_type": "stream",
     "text": [
      "[11.0, 12.0, 13.0, 14.0, 15.0, 16.0, 17.0, 18.0, 19.0, 20.0]\n"
     ]
    }
   ],
   "source": [
    "list_2 = [float(i) for i in range(11, 21)]\n",
    "print(list_2)"
   ]
  },
  {
   "cell_type": "markdown",
   "metadata": {},
   "source": [
    "3. Update \"list_1\" so that its first 3 elements get replaced with the list ```[\"one\", \"two\", \"three\"]```.\n",
    "   1. Print list_1 and the output should look like: ```['one', 'two', 'three', 4, 5, 6, 7, 8, 9, 10]```"
   ]
  },
  {
   "cell_type": "code",
   "execution_count": 3,
   "metadata": {},
   "outputs": [
    {
     "name": "stdout",
     "output_type": "stream",
     "text": [
      "['one', 'two', 'three', 4, 5, 6, 7, 8, 9, 10]\n"
     ]
    }
   ],
   "source": [
    "list_1[0:3] = \"one\", \"two\", \"three\"\n",
    "print(list_1)"
   ]
  },
  {
   "cell_type": "markdown",
   "metadata": {},
   "source": [
    "4. Create a tuple containing the words \"eleven\", \"twelve\" and \"thirteen\" and assign it to the first three elements from list_2.\n",
    "   1. Print list_2. It should look like: ```['eleven', 'twelve', 'thirteen', 14.0, 15.0, 16.0, 17.0, 18.0, 19.0, 20.0]```"
   ]
  },
  {
   "cell_type": "code",
   "execution_count": 4,
   "metadata": {},
   "outputs": [
    {
     "name": "stdout",
     "output_type": "stream",
     "text": [
      "['eleven', 'twelve', 'thirteen', 14.0, 15.0, 16.0, 17.0, 18.0, 19.0, 20.0]\n"
     ]
    }
   ],
   "source": [
    "tup = (\"eleven\", \"twelve\", \"thirteen\")\n",
    "list_2[0:3] = tup\n",
    "print(list_2)"
   ]
  },
  {
   "cell_type": "markdown",
   "metadata": {},
   "source": [
    "5. Join the two lists into a new list in 2 different ways:\n",
    "   1. Use the **.extend()** method. Give the name \"joint_1\" to this list.\n",
    "   2. Use the \"+\" operator. Give the name \"joint_2\" to this list.\n",
    "   3. Print the joined list. It should look like: ```['one', 'two', 'three', 4, 5, 6, 7, 8, 9, 10, 'eleven', 'twelve', 'thirteen', 14.0, 15.0, 16.0, 17.0, 18.0, 19.0, 20.0]```"
   ]
  },
  {
   "cell_type": "code",
   "execution_count": 5,
   "metadata": {},
   "outputs": [
    {
     "name": "stdout",
     "output_type": "stream",
     "text": [
      "['one', 'two', 'three', 4, 5, 6, 7, 8, 9, 10, 'eleven', 'twelve', 'thirteen', 14.0, 15.0, 16.0, 17.0, 18.0, 19.0, 20.0]\n",
      "['one', 'two', 'three', 4, 5, 6, 7, 8, 9, 10, 'eleven', 'twelve', 'thirteen', 14.0, 15.0, 16.0, 17.0, 18.0, 19.0, 20.0]\n"
     ]
    }
   ],
   "source": [
    "joint_1 = []\n",
    "joint_1.extend(list_1)\n",
    "joint_1.extend(list_2)\n",
    "joint_2 = list_1 + list_2\n",
    "print(joint_1)\n",
    "print(joint_2)"
   ]
  },
  {
   "cell_type": "markdown",
   "metadata": {},
   "source": [
    "6. We want to make \"joint_2\" a list of fixed length to wihich we can continously add new elements. Create a function to do this task. The function should accept the \"fixed length\" list as well as the \"to append\" list as arguments and output the \"new list\" as output.\n",
    "\n",
    "    Output should look like:\n",
    "\n",
    "    ```python\n",
    "    >> fixed_length_list = [1,2,3,4]\n",
    "    >> new_data = [5,6,7]\n",
    "    >> list_shift(fixed_length_list, new_data)\n",
    "    [4,5,6,7]\n",
    "    ```"
   ]
  },
  {
   "cell_type": "code",
   "execution_count": 6,
   "metadata": {},
   "outputs": [
    {
     "data": {
      "text/plain": [
       "[4, 5, 6, 7]"
      ]
     },
     "execution_count": 6,
     "metadata": {},
     "output_type": "execute_result"
    }
   ],
   "source": [
    "def list_shift(base_list, new_data):\n",
    "    base_list += new_data\n",
    "    for i in new_data:\n",
    "        base_list.pop(0)\n",
    "    return base_list\n",
    "\n",
    "fixed_length_list = [1, 2, 3, 4]\n",
    "new_data = [5, 6, 7]\n",
    "list_shift(fixed_length_list, new_data)"
   ]
  },
  {
   "cell_type": "markdown",
   "metadata": {},
   "source": [
    "7. **Food for thought**: are there any edge cases that the your function doesn't handle? Can you think how you might address them?"
   ]
  },
  {
   "cell_type": "markdown",
   "metadata": {},
   "source": [
    "## Exercise 2"
   ]
  },
  {
   "cell_type": "markdown",
   "metadata": {},
   "source": [
    "1. Create a list of action commands. It should include \"STOP\", \"LISTEN\", \"SLEEP\", \"GO\"."
   ]
  },
  {
   "cell_type": "code",
   "execution_count": 7,
   "metadata": {},
   "outputs": [],
   "source": [
    "command = [\"STOP\", \"LISTEN\", \"SLEEP\", \"GO\"]"
   ]
  },
  {
   "cell_type": "markdown",
   "metadata": {},
   "source": [
    "2. Create a for loop that loops over each command and prints it to the console."
   ]
  },
  {
   "cell_type": "code",
   "execution_count": 8,
   "metadata": {},
   "outputs": [
    {
     "name": "stdout",
     "output_type": "stream",
     "text": [
      "STOP\n",
      "LISTEN\n",
      "SLEEP\n",
      "GO\n"
     ]
    }
   ],
   "source": [
    "for string in command:\n",
    "    print(string)"
   ]
  },
  {
   "cell_type": "markdown",
   "metadata": {},
   "source": [
    "3. Create a seperate list of strings that has the following in order: \"CONNECTION FAILURE\", \"BANANAS\", \"CONNECTION SUCCESS\", \"APPLES\""
   ]
  },
  {
   "cell_type": "code",
   "execution_count": 9,
   "metadata": {},
   "outputs": [],
   "source": [
    "status = [\"CONNECTION FAILURE\", \"BANANAS\", \"CONNECTION SUCCESS\", \"APPLES\"]"
   ]
  },
  {
   "cell_type": "markdown",
   "metadata": {},
   "source": [
    "4. Assign the value \"SUCCESS\" to a variable called **text**."
   ]
  },
  {
   "cell_type": "code",
   "execution_count": 10,
   "metadata": {},
   "outputs": [],
   "source": [
    "text = \"SUCCESS\""
   ]
  },
  {
   "cell_type": "markdown",
   "metadata": {},
   "source": [
    "5. Test the following logic statements:\n",
    "    1. `\"SUCCESS\" in \"SUCCESS\"`\n",
    "    2. `\"SUCCESS\" in \"ijoisafjoijiojSUCCESS\"`\n",
    "    3. `\"SUCCESS\" == \"ijoisafjoijiojSUCCESS\"`\n",
    "    4. `\"SUCCESS\" == text`\n",
    "    5. Are these comparing the whole string, or character by character?"
   ]
  },
  {
   "cell_type": "code",
   "execution_count": 11,
   "metadata": {},
   "outputs": [
    {
     "name": "stdout",
     "output_type": "stream",
     "text": [
      "True\n",
      "True\n",
      "False\n",
      "True\n"
     ]
    }
   ],
   "source": [
    "print((\"SUCCESS\" in \"SUCCESS\"))\n",
    "print((\"SUCCESS\" in \"ijoisafjoijiojSUCCESS\"))\n",
    "print((\"SUCCESS\" == \"ijoisafjoijiojSUCCESS\"))\n",
    "print((\"SUCCESS\" == text))\n",
    "# in keyword looks for values in the sequence, == compares the entire thing!"
   ]
  },
  {
   "cell_type": "markdown",
   "metadata": {},
   "source": [
    "6. Make a while loop that loops over the list from step 3. Print each word unless it contains the string from step 4, in which case you should exit the loop and print: \"This worked!\""
   ]
  },
  {
   "cell_type": "code",
   "execution_count": 12,
   "metadata": {},
   "outputs": [
    {
     "name": "stdout",
     "output_type": "stream",
     "text": [
      "CONNECTION FAILURE\n",
      "BANANAS\n",
      "This worked!\n"
     ]
    }
   ],
   "source": [
    "i = 0\n",
    "while i < len(status):\n",
    "    if text in status[i]:\n",
    "        print(\"This worked!\")\n",
    "        break\n",
    "    print(status[i])\n",
    "    i += 1"
   ]
  },
  {
   "cell_type": "markdown",
   "metadata": {},
   "source": [
    "## Exercise 3\n",
    "Create a function called `timer()` have it print out a countdown from the number of seconds provided by the user input. You can take in user input from the command line by calling the `input()` function and you can use `time()` to measure elapsed time. For example, if the user input is 5, the function should print out 5, 4, 3, 2, 1, 0 and then terminate, but it will do it in 1 second increments just like a timer.\n",
    "```"
   ]
  },
  {
   "cell_type": "code",
   "execution_count": 13,
   "metadata": {},
   "outputs": [
    {
     "name": "stdout",
     "output_type": "stream",
     "text": [
      "Enter a number of seconds: 5\n",
      "5\n",
      "4\n",
      "3\n",
      "2\n",
      "1\n",
      "0\n"
     ]
    }
   ],
   "source": [
    "import time\n",
    "\n",
    "def timer():\n",
    "    second = int(input(\"Enter a number of seconds: \"))\n",
    "    start = time.time()\n",
    "    while second >= 0:\n",
    "        end = time.time()\n",
    "        if end - start > 1:\n",
    "            print(second)\n",
    "            second -= 1\n",
    "            start = end\n",
    "\n",
    "timer()"
   ]
  },
  {
   "cell_type": "code",
   "execution_count": null,
   "metadata": {},
   "outputs": [],
   "source": []
  }
 ],
 "metadata": {
  "kernelspec": {
   "display_name": "Python 3",
   "language": "python",
   "name": "python3"
  },
  "language_info": {
   "codemirror_mode": {
    "name": "ipython",
    "version": 3
   },
   "file_extension": ".py",
   "mimetype": "text/x-python",
   "name": "python",
   "nbconvert_exporter": "python",
   "pygments_lexer": "ipython3",
   "version": "3.7.4"
  }
 },
 "nbformat": 4,
 "nbformat_minor": 2
}
